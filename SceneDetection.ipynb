{
  "nbformat": 4,
  "nbformat_minor": 0,
  "metadata": {
    "colab": {
      "name": "SceneDetection.ipynb",
      "provenance": [],
      "collapsed_sections": [],
      "authorship_tag": "ABX9TyPs/QD3CnVX3vP7ENBlfKtt",
      "include_colab_link": true
    },
    "kernelspec": {
      "name": "python3",
      "display_name": "Python 3"
    },
    "language_info": {
      "name": "python"
    }
  },
  "cells": [
    {
      "cell_type": "markdown",
      "metadata": {
        "id": "view-in-github",
        "colab_type": "text"
      },
      "source": [
        "<a href=\"https://colab.research.google.com/github/simonh10/aivideotoys/blob/main/SceneDetection.ipynb\" target=\"_parent\"><img src=\"https://colab.research.google.com/assets/colab-badge.svg\" alt=\"Open In Colab\"/></a>"
      ]
    },
    {
      "cell_type": "markdown",
      "metadata": {
        "id": "Ulqn7cAwE9ZS"
      },
      "source": [
        "# AI Scene detection\n",
        "Using a simple Discriminator network to look at the five frames before a potential cut and the five frames after a potential cut to workout if there is a scene change there.\n",
        "\n",
        "# Prepare Data\n",
        "Find a video to convert to frames and split them into scenes by hand. We can work at a 64x64 greyscale image resolution."
      ]
    }
  ]
}