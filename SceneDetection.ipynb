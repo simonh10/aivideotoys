{
  "nbformat": 4,
  "nbformat_minor": 0,
  "metadata": {
    "colab": {
      "name": "SceneDetection.ipynb",
      "provenance": [],
      "collapsed_sections": [],
      "authorship_tag": "ABX9TyPs/QD3CnVX3vP7ENBlfKtt"
    },
    "kernelspec": {
      "name": "python3",
      "display_name": "Python 3"
    },
    "language_info": {
      "name": "python"
    }
  },
  "cells": [
    {
      "cell_type": "markdown",
      "metadata": {
        "id": "Ulqn7cAwE9ZS"
      },
      "source": [
        "# AI Scene detection\n",
        "Using a simple Discriminator network to look at the five frames before a potential cut and the five frames after a potential cut to workout if there is a scene change there.\n",
        "\n",
        "# Prepare Data\n",
        "Find a video to convert to frames and split them into scenes by hand. We can work at a 64x64 greyscale image resolution."
      ]
    }
  ]
}